{
 "cells": [
  {
   "cell_type": "markdown",
   "source": [
    "# 알고리즘 및 실습 실습과제 1"
   ],
   "metadata": {
    "collapsed": false,
    "pycharm": {
     "name": "#%% md\n"
    },
    "id": "ptKg563VNyoT"
   }
  },
  {
   "cell_type": "markdown",
   "source": [
    "## [문제 1] 최대 공약수를 구하는 세 가지 알고리즘을 각각 함수로 구현하고 테스트하라.\n",
    "- 교재 연습문제 52쪽의 문제 2~5 참고"
   ],
   "metadata": {
    "collapsed": false,
    "id": "9d_BzrWFNyoW",
    "pycharm": {
     "name": "#%% md\n"
    }
   }
  },
  {
   "cell_type": "markdown",
   "source": [
    "### [문제 1, 52P-2] 알고리즘 1.5를 파이썬을 이용해 다시 기술하라. `gcd(60, 28)`에 대해 다음과 같은 결과가 출력되도록 테스트 코드를 작성하라.\n",
    "```\n",
    "60 의 약수 = [1, 2, 3, 4, 5, 6, 10, 12, 15, 20, 30]\n",
    "28 의 약수 = [1, 2, 4, 1, 141]\n",
    "60과 28의 최대 공약수 = 4\n",
    "```"
   ],
   "metadata": {
    "collapsed": false,
    "pycharm": {
     "name": "#%% md\n"
    },
    "id": "-qCEe4MPNyoX"
   }
  },
  {
   "cell_type": "code",
   "execution_count": null,
   "outputs": [
    {
     "name": "stdout",
     "output_type": "stream",
     "text": [
      "60의 약수 = [1, 2, 3, 4, 5, 6, 10, 12, 15, 20, 30]\n",
      "28의 약수 = [1, 2, 4, 7, 14]\n",
      "60와 28의 최대 공약수 = 4\n"
     ]
    }
   ],
   "source": [
    "to_factor_list = lambda n : [i for i in list(range(1, n)) if n % i == 0]\n",
    "# 약수 리스트를 구하는 함수\n",
    "\n",
    "def gcd(a, b):\n",
    "    alist = to_factor_list(a)\n",
    "    blist = to_factor_list(b)\n",
    "    return list(set.intersection(set(alist), set(blist)))[-1]\n",
    "\n",
    "a, b = 60, 28\n",
    "print(f'{a}의 약수 = {to_factor_list(a)}');\n",
    "print(f'{b}의 약수 = {to_factor_list(b)}');\n",
    "print(f'{a}와 {b}의 최대 공약수 = {gcd(a, b)}');"
   ],
   "metadata": {
    "pycharm": {
     "name": "#%%\n"
    },
    "id": "vBqmbe_TNyoX",
    "outputId": "9ef8c5cf-4c33-4cd5-8cac-6181d05b8062"
   }
  },
  {
   "cell_type": "markdown",
   "source": [
    "### [문제 1, 52P-3] 알고리즘 1.6을 파이썬을 이용해 다시 기술하라. gcd(60, 28)에 대해 다음과 같은 결과가 출력되도록 테스트 코드를 작성하라.\n",
    "```\n",
    "60 의 약수 = [1, 2, 3, 4, 5, 6, 10, 12, 15, 20, 30]\n",
    "60과 28의 최대 공약수 = 4\n",
    "```"
   ],
   "metadata": {
    "collapsed": false,
    "id": "R8ClPDsNNyoY",
    "pycharm": {
     "name": "#%% md\n"
    }
   }
  },
  {
   "cell_type": "code",
   "execution_count": null,
   "outputs": [
    {
     "name": "stdout",
     "output_type": "stream",
     "text": [
      "60의 약수 = [1, 2, 3, 4, 5, 6, 10, 12, 15, 20, 30]\n",
      "60와 28의 최대 공약수 = 4\n"
     ]
    }
   ],
   "source": [
    "to_factor_list = lambda n : [i for i in list(range(1, n)) if n % i == 0]\n",
    "# 약수 리스트를 구하는 함수\n",
    "\n",
    "def gcd(a, b):\n",
    "    alist = to_factor_list(a)\n",
    "    return next(i for i in reversed(alist) if b % i == 0)\n",
    "\n",
    "a, b = 60, 28\n",
    "print(f'{a}의 약수 = {to_factor_list(a)}');\n",
    "print(f'{a}와 {b}의 최대 공약수 = {gcd(a, b)}');"
   ],
   "metadata": {
    "pycharm": {
     "name": "#%%\n"
    },
    "id": "jamXpyYYNyoZ",
    "outputId": "4aed2c8d-f72f-4047-af75-6a75535c6675"
   }
  },
  {
   "cell_type": "markdown",
   "source": [
    "### [문제 1, 52P-4] 유클리드 알고리즘(알고리즘 1.7)에 적절한 출력문을 추가하여 중간 과정을 보여줄 수 있도록 수정하라."
   ],
   "metadata": {
    "collapsed": false,
    "pycharm": {
     "name": "#%% md\n"
    },
    "id": "np-ZSy-xNyoZ"
   }
  },
  {
   "cell_type": "code",
   "execution_count": null,
   "outputs": [
    {
     "name": "stdout",
     "output_type": "stream",
     "text": [
      "a=60, b=28, a % b = 4, next is (28, 4)\n",
      "a=28, b=4, a % b = 0, next is (4, 0)\n",
      "60와 28의 최대 공약수 = 4\n"
     ]
    }
   ],
   "source": [
    "def gcd(a, b):\n",
    "    while b != 0:\n",
    "        print(f'a={a}, b={b}, a % b = {a % b}, next is ({b}, {a % b})')\n",
    "        # 중간 과정 출력 추가\n",
    "        r= a % b\n",
    "        a = b\n",
    "        b = r\n",
    "    return a\n",
    "\n",
    "a, b = 60, 28\n",
    "print(f'{a}와 {b}의 최대 공약수 = {gcd(a, b)}');"
   ],
   "metadata": {
    "pycharm": {
     "name": "#%%\n"
    },
    "id": "GzkR7wzZNyoa",
    "outputId": "2284e1d5-1be4-4c35-9808-e1c7c250c8a2"
   }
  },
  {
   "cell_type": "markdown",
   "source": [
    "### [문제 1, 52P-5] a가 b보다 작은 경우에도 정확한 결과를 낼 수 있도록 알고리즘 1.7을 수정하라."
   ],
   "metadata": {
    "collapsed": false,
    "pycharm": {
     "name": "#%% md\n"
    },
    "id": "sstxe5OONyoa"
   }
  },
  {
   "cell_type": "code",
   "execution_count": 1,
   "outputs": [
    {
     "output_type": "stream",
     "name": "stdout",
     "text": [
      "60와 28의 최대 공약수 = 4\n"
     ]
    }
   ],
   "source": [
    "def gcd(a, b):\n",
    "    a, b = (a, b) if a >= b else (b, a)\n",
    "    while b != 0:\n",
    "        r= a % b\n",
    "        a = b\n",
    "        b = r\n",
    "    return a\n",
    "    \n",
    "a, b = 60, 28\n",
    "print(f'{a}와 {b}의 최대 공약수 = {gcd(a, b)}');"
   ],
   "metadata": {
    "pycharm": {
     "name": "#%%\n"
    },
    "colab": {
     "base_uri": "https://localhost:8080/"
    },
    "id": "ATMRumX2Nyob",
    "executionInfo": {
     "status": "ok",
     "timestamp": 1646570057433,
     "user_tz": -540,
     "elapsed": 4,
     "user": {
      "displayName": "refracta",
      "photoUrl": "https://lh3.googleusercontent.com/a-/AOh14Gi8tSn2iRkvMQ-UXinLmHUcnNrdWoWexJ0uB8OM2A=s64",
      "userId": "16332634890917299971"
     }
    },
    "outputId": "4f0d273f-2b86-48f3-e9d2-81c1c07a4cfc"
   }
  },
  {
   "cell_type": "markdown",
   "source": [
    "## [문제 2] 최소 공배수를 구하는 알고리즘을 구현하고 테스트하라."
   ],
   "metadata": {
    "collapsed": false,
    "pycharm": {
     "name": "#%% md\n"
    },
    "id": "hq-xMUTcNyob"
   }
  },
  {
   "cell_type": "code",
   "execution_count": null,
   "outputs": [
    {
     "name": "stdout",
     "output_type": "stream",
     "text": [
      "lcm(60, 28) = 420 (True)\n",
      "lcm(15, 30) = 30 (True)\n",
      "lcm(30, 45) = 90 (True)\n",
      "lcm(30, 45) = 56 (True)\n",
      "lcm(30, 45) = 91 (True)\n"
     ]
    }
   ],
   "source": [
    "import math\n",
    "gcd = lambda a, b: gcd(b, a % b) if b != 0 else a\n",
    "lcm = lambda a, b: a * b // gcd(a, b)\n",
    "# 최소 공배수 = A * B / (최대 공약수)\n",
    "\n",
    "print(f'lcm(60, 28) = {lcm(60, 28)} ({lcm(60, 28) == math.lcm(60, 28)})')\n",
    "print(f'lcm(15, 30) = {lcm(15, 30)} ({lcm(15, 30) == math.lcm(15, 30)})')\n",
    "print(f'lcm(30, 45) = {lcm(30, 45)} ({lcm(30, 45) == math.lcm(30, 45)})')\n",
    "print(f'lcm(30, 45) = {lcm(7, 8)} ({lcm(7, 8) == math.lcm(7, 8)})')\n",
    "print(f'lcm(30, 45) = {lcm(7, 13)} ({lcm(7, 13) == math.lcm(7, 13)})')"
   ],
   "metadata": {
    "pycharm": {
     "name": "#%%\n"
    },
    "id": "ywHxBHH6Nyob",
    "outputId": "97393806-057b-4051-da0f-2e217617e400"
   }
  }
 ],
 "metadata": {
  "kernelspec": {
   "display_name": "Python 3",
   "language": "python",
   "name": "python3"
  },
  "language_info": {
   "codemirror_mode": {
    "name": "ipython",
    "version": 2
   },
   "file_extension": ".py",
   "mimetype": "text/x-python",
   "name": "python",
   "nbconvert_exporter": "python",
   "pygments_lexer": "ipython2",
   "version": "2.7.6"
  },
  "colab": {
   "name": "PracticeAssignment01.ipynb",
   "provenance": [],
   "collapsed_sections": []
  }
 },
 "nbformat": 4,
 "nbformat_minor": 0
}
