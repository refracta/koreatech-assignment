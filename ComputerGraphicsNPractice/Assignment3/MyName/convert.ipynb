{
 "cells": [
  {
   "cell_type": "code",
   "execution_count": null,
   "metadata": {
    "collapsed": true
   },
   "outputs": [],
   "source": [
    "import matplotlib.pyplot as plt\n",
    "from PIL import Image\n",
    "import numpy as np\n",
    "from numpy import asarray\n",
    "\n",
    "image = Image.open('name.png')\n",
    "\n",
    "print(image.format)\n",
    "print(image.size)\n",
    "print(image.mode)\n",
    "plt.imshow(image)\n",
    "\n",
    "image_array = asarray(image)\n",
    "compressed_array = []\n",
    "for r in range(image.size[0]):\n",
    "    for c in range(image.size[1]):\n",
    "        pixel = image_array[r][c]\n",
    "        if pixel[0] != 255:\n",
    "            compressed_array.append([c, r])\n",
    "\n",
    "image_array = np.array(compressed_array)\n",
    "trimmed_image_array = image_array - np.array([[np.min(image_array[..., 0]), np.min(image_array[..., 1])]])\n",
    "raw_trimmed_image_array = trimmed_image_array.tolist()\n",
    "print(len(raw_trimmed_image_array))\n",
    "print(np.array([[np.max(trimmed_image_array[..., 0]), np.max(trimmed_image_array[..., 1])]]))\n",
    "print('{' + ','.join(list(map(lambda e: str(e).replace('[', '{').replace(']', '}'), raw_trimmed_image_array))) + '}')"
   ]
  }
 ],
 "metadata": {
  "kernelspec": {
   "display_name": "Python 3",
   "language": "python",
   "name": "python3"
  },
  "language_info": {
   "codemirror_mode": {
    "name": "ipython",
    "version": 2
   },
   "file_extension": ".py",
   "mimetype": "text/x-python",
   "name": "python",
   "nbconvert_exporter": "python",
   "pygments_lexer": "ipython2",
   "version": "2.7.6"
  }
 },
 "nbformat": 4,
 "nbformat_minor": 0
}
